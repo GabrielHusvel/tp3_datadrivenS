{
 "cells": [
  {
   "cell_type": "markdown",
   "metadata": {},
   "source": [
    "1 - Defina o Problema: Escolha um problema que possa ser resolvido com o uso de agentes inteligentes. Descreva o objetivo da aplicação, o público-alvo e as principais funcionalidades planejadas. Detalhe os casos de uso que serão testados para validar a solução.\n",
    "\n",
    "\n",
    "\n",
    "\n",
    "\n",
    "\n",
    "\n",
    "\n",
    "\n",
    "\n",
    "Problema a ser resolvido: Assistente de pesquisa para artigos científicos e resolução de problemas complexos\n",
    "Objetivo da aplicação:\n",
    "Criar um assistente inteligente capaz de ajudar pesquisadores e estudantes a realizar buscas avançadas em diferentes bases de conhecimento, como artigos científicos, Wikipedia, Wolfram Alpha, Google, e DuckDuckGo. Além disso, oferecer suporte para cálculos matemáticos, simulações Python, e respostas a perguntas complexas usando agentes baseados em aprendizado de máquina.\n",
    "\n",
    "Público-alvo:\n",
    "\n",
    "\n",
    "\n",
    "Pesquisadores e acadêmicos em busca de informações científicas.\n",
    "Estudantes de graduação e pós-graduação que precisam resolver problemas complexos e realizar buscas precisas para seus trabalhos.\n",
    "Profissionais de áreas técnicas e científicas que necessitam de ferramentas de suporte à tomada de decisão.\n",
    "Principais funcionalidades planejadas:\n",
    "\n",
    "Busca científica avançada:\n",
    "\n",
    "Ferramenta para consulta a artigos no ArXiv.\n",
    "Busca de informações confiáveis em enciclopédias, como a Wikipedia.\n",
    "Agregador de resultados utilizando DuckDuckGo e Google Search.\n",
    "Resolução de problemas matemáticos:\n",
    "\n",
    "Integração com Wolfram Alpha para cálculos simbólicos e numéricos avançados.\n",
    "Cadeia de cálculos interativos usando a LLMMathChain.\n",
    "Suporte para programação e simulação:\n",
    "\n",
    "Um REPL de Python para executar pequenos códigos ou simulações matemáticas diretamente.\n",
    "Agente de autoaprendizado:\n",
    "\n",
    "Agente \"Self-ask with Search\" para responder perguntas complexas combinando múltiplas fontes de informações em tempo real.\n",
    "Resultados críticos e ferramentas integradas:\n",
    "\n",
    "Ferramenta de busca crítica (\"critical_search\") para casos em que perguntas exigem respostas compostas.\n"
   ]
  },
  {
   "cell_type": "markdown",
   "metadata": {},
   "source": [
    "2 - Configure o Framework LangChain: Configure o ambiente de desenvolvimento para utilizar LangChain, escolhendo um LLM apropriado (como Gemini ou GPT-4) para sua aplicação."
   ]
  },
  {
   "cell_type": "code",
   "execution_count": null,
   "metadata": {},
   "outputs": [],
   "source": [
    "from langchain_openai import ChatOpenAI\n",
    "\n",
    "llm = ChatOpenAI(temperature=0, model_name=\"gpt-4\", verbose=True, streaming=True)\n"
   ]
  },
  {
   "cell_type": "markdown",
   "metadata": {},
   "source": [
    "3 - Implemente Ferramentas: Crie e configure no mínimo duas ferramentas externas (tools). Cada ferramenta deve ter nome, descrição e função claramente definidos, e ser integrada ao LangChain."
   ]
  },
  {
   "cell_type": "code",
   "execution_count": null,
   "metadata": {},
   "outputs": [],
   "source": [
    "from langchain_community.tools.arxiv.tool import ArxivQueryRun\n",
    "from langchain_community.tools.wikipedia.tool import WikipediaQueryRun\n",
    "from langchain_community.tools.ddg_search import DuckDuckGoSearchRun\n",
    "from langchain_community.utilities.arxiv import ArxivAPIWrapper\n",
    "from langchain_community.utilities.wikipedia import WikipediaAPIWrapper\n",
    "from langchain_community.utilities.duckduckgo_search import DuckDuckGoSearchAPIWrapper\n",
    "from typing import Optional\n",
    "from langchain_core.language_models import BaseLanguageModel\n",
    "\n",
    "def load_tools(tool_names: list[str], llm: Optional[BaseLanguageModel] = None):\n",
    "    \"\"\"\n",
    "    Carrega as ferramentas disponíveis para o agente.\n",
    "    \"\"\"\n",
    "    available_tools = {\n",
    "        \"arxiv\": ArxivQueryRun(api_wrapper=ArxivAPIWrapper()),\n",
    "        \"wikipedia\": WikipediaQueryRun(api_wrapper=WikipediaAPIWrapper()),\n",
    "        \"ddg_search\": DuckDuckGoSearchRun(api_wrapper=DuckDuckGoSearchAPIWrapper())\n",
    "    }\n",
    "    return [available_tools[name] for name in tool_names if name in available_tools]\n",
    "\n"
   ]
  },
  {
   "cell_type": "markdown",
   "metadata": {},
   "source": [
    "4 - Utilize o Framework ReAct: Implemente o raciocínio interativo usando o framework ReAct, garantindo que o agente possa alternar entre raciocinar, tomar ações e observar os resultados para alcançar os objetivos."
   ]
  },
  {
   "cell_type": "code",
   "execution_count": null,
   "metadata": {},
   "outputs": [],
   "source": [
    "prompt = hub.pull(\"hwchase17/react\")\n",
    "agent = initialize_agent(tools, llm, agent=AgentType.REACT, verbose=True)\n"
   ]
  },
  {
   "cell_type": "markdown",
   "metadata": {},
   "source": [
    "5 - Adicione Memória Conversacional: Configure um sistema de memória conversacional, permitindo que o agente lembre o histórico de interações e utilize esse contexto para gerar respostas mais coerentes."
   ]
  },
  {
   "cell_type": "code",
   "execution_count": null,
   "metadata": {},
   "outputs": [],
   "source": [
    "from langchain.memory import ConversationBufferMemory\n",
    "from langchain_core.prompts import MessagesPlaceholder\n",
    "\n",
    "def init_memory():\n",
    "    \"\"\"Initialize the memory for contextual conversation.\"\"\"\n",
    "    return ConversationBufferMemory(\n",
    "        memory_key=\"chat_history\", return_messages=True, output_key=\"answer\"\n",
    "    )\n",
    "\n",
    "MEMORY = init_memory()\n",
    "CHAT_HISTORY = MessagesPlaceholder(variable_name=\"chat_history\")\n"
   ]
  },
  {
   "cell_type": "markdown",
   "metadata": {},
   "source": [
    "6 - Desenvolva a Lógica do Agente: Estruture a lógica de funcionamento do agente, integrando ferramentas, memória e raciocínio interativo para resolver o problema proposto."
   ]
  },
  {
   "cell_type": "code",
   "execution_count": null,
   "metadata": {},
   "outputs": [],
   "source": [
    "def load_agent(\n",
    "    tool_names: list[str],\n",
    "    strategy: ReasoningStrategy = \"zero_shot_react\"\n",
    ") -> LLMChain:\n",
    "    if strategy == \"plan_and_solve\":\n",
    "        planner = load_chat_planner(llm)\n",
    "        executor = load_agent_executor(llm, tools, verbose=True)\n",
    "        return PlanAndExecute(planner=planner, executor=executor, verbose=True)\n",
    "\n",
    "    agent = initialize_agent(tools, llm, agent=AgentType.REACT, verbose=True)\n",
    "    return agent\n"
   ]
  },
  {
   "cell_type": "markdown",
   "metadata": {},
   "source": [
    "7 - Projete a Interface do Usuário: Crie uma interface funcional (streamlit ou linha de comando) para que o agente possa ser utilizado. Não é necessário que seja sofisticada, mas deve ser clara e intuitiva."
   ]
  },
  {
   "cell_type": "code",
   "execution_count": null,
   "metadata": {},
   "outputs": [],
   "source": [
    "st.set_page_config(page_title=\"Scientific Research Assistant\", page_icon=\":robot:\")\n",
    "\n",
    "tool_names = st.multiselect(\n",
    "    \"Select tools to assist your research:\",\n",
    "    [\"arxiv\", \"wikipedia\", \"ddg_search\"],\n",
    "    [\"arxiv\", \"wikipedia\", \"ddg_search\"]\n",
    ")\n",
    "\n",
    "if prompt := st.chat_input(placeholder=\"Enter your research query here...\"):\n",
    "    st.chat_message(\"user\").write(prompt)\n",
    "    with st.chat_message(\"assistant\"):\n",
    "        st_callback = StreamlitCallbackHandler(st.container())\n",
    "        response = agent_chain.invoke({\"input\": prompt}, {\"callbacks\": [st_callback]})\n",
    "        st.write(response[\"output\"])\n"
   ]
  },
  {
   "cell_type": "markdown",
   "metadata": {},
   "source": [
    "8 - Teste a Solução: Realize testes práticos utilizando os casos de uso definidos. Inclua uma explicação clara sobre como o agente facilita ou possibilita o trabalho e o que seria necessário fazer sem o uso desse recurso.\n"
   ]
  },
  {
   "cell_type": "code",
   "execution_count": null,
   "metadata": {},
   "outputs": [],
   "source": []
  },
  {
   "cell_type": "markdown",
   "metadata": {},
   "source": [
    "9 - Documente o Projeto: Submeta o código no GitHub com um README bem elaborado. O README deve incluir:\n",
    "Descrição do problema e da solução.\n",
    "Casos de uso testados e resultados observados.\n",
    "Instruções claras para execução do código.\n",
    "Reflexão sobre como o agente facilitou ou possibilitou o trabalho em comparação a uma abordagem manual."
   ]
  },
  {
   "cell_type": "markdown",
   "metadata": {},
   "source": [
    "10 - Boas Práticas de Codificação: Certifique-se de que o código segue boas práticas de desenvolvimento, incluindo:\n",
    "Estrutura modular e organizada.\n",
    "Comentários explicativos e concisos.\n",
    "Nomes de variáveis e funções claros e descritivos.\n",
    "Tratamento adequado de erros."
   ]
  }
 ],
 "metadata": {
  "kernelspec": {
   "display_name": ".venv",
   "language": "python",
   "name": "python3"
  },
  "language_info": {
   "name": "python",
   "version": "3.12.4"
  }
 },
 "nbformat": 4,
 "nbformat_minor": 2
}
